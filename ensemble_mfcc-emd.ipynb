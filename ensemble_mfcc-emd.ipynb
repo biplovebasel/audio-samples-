{
 "cells": [
  {
   "cell_type": "code",
   "execution_count": 1,
   "id": "6331b59b-4c28-40d5-97bc-e3041964f7ba",
   "metadata": {},
   "outputs": [],
   "source": [
    "import os\n",
    "import numpy as np\n",
    "import joblib\n",
    "import tensorflow as tf\n",
    "import matplotlib.pyplot as plt"
   ]
  },
  {
   "cell_type": "code",
   "execution_count": 2,
   "id": "c711e3e6-844e-4f25-93c7-91753e1ffd97",
   "metadata": {},
   "outputs": [],
   "source": [
    "from keras.models import model_from_json\n",
    "from sklearn.linear_model import LogisticRegression\n",
    "from sklearn.metrics import accuracy_score\n",
    "from sklearn.metrics import confusion_matrix"
   ]
  },
  {
   "cell_type": "code",
   "execution_count": 3,
   "id": "f523b791-22d9-4288-ad67-ce251cf60193",
   "metadata": {
    "jupyter": {
     "source_hidden": true
    },
    "tags": []
   },
   "outputs": [],
   "source": [
    "def stacked_dataset(members, inputX):\n",
    "\tstackX = None\n",
    "\tfor model in members:\n",
    "\t\t# make prediction\n",
    "\t\tyhat = model.predict(inputX, verbose=0)\n",
    "\t\t# stack predictions into [rows, members, probabilities]\n",
    "\t\tif stackX is None:\n",
    "\t\t\tstackX = yhat\n",
    "\t\telse:\n",
    "\t\t\tstackX = np.dstack((stackX, yhat))\n",
    "\t# flatten predictions to [rows, members x probabilities]\n",
    "\tstackX = stackX.reshape((stackX.shape[0], stackX.shape[1]*stackX.shape[2]))\n",
    "\treturn stackX\n",
    "\n",
    "def Lr(members, inputX, inputy):\n",
    "\t# create dataset using ensemble\n",
    "\tstackedX = stacked_dataset(members, inputX)\n",
    "\t# fit standalone model\n",
    "\tmodel = LogisticRegression()\n",
    "\tmodel.fit(stackedX, inputy)\n",
    "\treturn model\n",
    "\n",
    "# make a prediction with the stacked model\n",
    "def stacked_prediction(members, model, inputX):\n",
    "\t# create dataset using ensemble\n",
    "\tstackedX = stacked_dataset(members, inputX)\n",
    "\t# make a prediction\n",
    "\tyhat = model.predict(stackedX)\n",
    "\treturn yhat"
   ]
  },
  {
   "cell_type": "code",
   "execution_count": null,
   "id": "f2b5bd59-20a8-4c96-a32e-4151dbba4709",
   "metadata": {},
   "outputs": [],
   "source": []
  },
  {
   "cell_type": "code",
   "execution_count": 4,
   "id": "9193d81b-fe81-4ecb-ad58-b68e96bf1418",
   "metadata": {},
   "outputs": [],
   "source": [
    "save_dir_mfcc   = 'C:/Users/NITM/home_automation/ensemble_learning/'\n",
    "x1              = joblib.load(save_dir_mfcc  + 'mfcc_xtest.joblib')\n",
    "y1              = joblib.load(save_dir_mfcc  + 'mfcc_ytest.joblib')"
   ]
  },
  {
   "cell_type": "code",
   "execution_count": 5,
   "id": "06c05cec-b937-42f5-9b4a-b72a0f9c1ef7",
   "metadata": {},
   "outputs": [],
   "source": [
    "save_dir_emd    = 'C:/Users/NITM/home_automation/ensemble_learning/'\n",
    "x2              = joblib.load(save_dir_mfcc  + 'emd_xtest.joblib')\n",
    "y2              = joblib.load(save_dir_mfcc  + 'emd_ytest.joblib')"
   ]
  },
  {
   "cell_type": "code",
   "execution_count": 6,
   "id": "ecbdf042-3bd5-4785-84b4-fcbdd9c4d338",
   "metadata": {},
   "outputs": [],
   "source": [
    "y1_ohe =  tf.keras.utils.to_categorical(y1)\n",
    "y2_ohe =  tf.keras.utils.to_categorical(y2)"
   ]
  },
  {
   "cell_type": "code",
   "execution_count": 7,
   "id": "acceb1a8-7525-4485-b447-6e6322b2d225",
   "metadata": {},
   "outputs": [],
   "source": [
    "model_list1=[]\n",
    "model_list2=[]"
   ]
  },
  {
   "cell_type": "code",
   "execution_count": 8,
   "id": "fb9d190c-e6be-487c-a031-d41976f9c109",
   "metadata": {},
   "outputs": [
    {
     "data": {
      "text/plain": [
       "['100', '190', '203', '225', '243']"
      ]
     },
     "execution_count": 8,
     "metadata": {},
     "output_type": "execute_result"
    }
   ],
   "source": [
    "model_path1='C:/Users/NITM/home_automation/ensemble_learning/mfcc_weights'\n",
    "model_li1=os.listdir(model_path1)\n",
    "model_li1"
   ]
  },
  {
   "cell_type": "code",
   "execution_count": 9,
   "id": "c9cfcf83-cb6c-4280-8057-ef668384918e",
   "metadata": {},
   "outputs": [
    {
     "data": {
      "text/plain": [
       "['102', '106', '119', '193', '203']"
      ]
     },
     "execution_count": 9,
     "metadata": {},
     "output_type": "execute_result"
    }
   ],
   "source": [
    "model_path2='C:/Users/NITM/home_automation/ensemble_learning/emd_weights'\n",
    "model_li2=os.listdir(model_path2)\n",
    "model_li2"
   ]
  },
  {
   "cell_type": "code",
   "execution_count": 10,
   "id": "9fb8ce7c-3cac-45e0-b751-07ea3835aac1",
   "metadata": {},
   "outputs": [],
   "source": [
    "for fol in model_li1:\n",
    "    path=os.path.join(model_path1,fol)\n",
    "    li=os.listdir(path)\n",
    "    j=[_ for _ in li if _.endswith(\".json\")]\n",
    "    w=[_ for _ in li if _.endswith(\".h5\")]\n",
    "    \n",
    "    json_file = open(path+\"/\"+j[0], 'r')\n",
    "    loaded_model_json = json_file.read()\n",
    "    json_file.close()\n",
    "    loaded_model = model_from_json(loaded_model_json)\n",
    "    # load weights into new model\n",
    "    loaded_model.load_weights(path+\"/\"+w[0])\n",
    "    model_list1.append(loaded_model)   "
   ]
  },
  {
   "cell_type": "code",
   "execution_count": 11,
   "id": "28c4a271-5910-41d8-98ec-cef1052fce2d",
   "metadata": {},
   "outputs": [],
   "source": [
    "for fol in model_li2:\n",
    "    path=os.path.join(model_path2,fol)\n",
    "    li=os.listdir(path)\n",
    "    j=[_ for _ in li if _.endswith(\".json\")]\n",
    "    w=[_ for _ in li if _.endswith(\".h5\")]\n",
    "    \n",
    "    json_file = open(path+\"/\"+j[0], 'r')\n",
    "    loaded_model_json = json_file.read()\n",
    "    json_file.close()\n",
    "    loaded_model = model_from_json(loaded_model_json)\n",
    "    # load weights into new model\n",
    "    loaded_model.load_weights(path+\"/\"+w[0])\n",
    "    model_list2.append(loaded_model)   "
   ]
  },
  {
   "cell_type": "code",
   "execution_count": 12,
   "id": "6a435328-8267-4b76-9227-cc04bb8df427",
   "metadata": {},
   "outputs": [],
   "source": [
    "for i in range(0,len(model_list1)):\n",
    "    model_list1[i].compile(loss='categorical_crossentropy', optimizer='adam', metrics=['accuracy'])\n",
    "    model_list2[i].compile(loss='categorical_crossentropy', optimizer='adam', metrics=['accuracy'])"
   ]
  },
  {
   "cell_type": "code",
   "execution_count": 13,
   "id": "52efc366-4417-4dc8-ac53-6e93b4ac3a72",
   "metadata": {},
   "outputs": [
    {
     "name": "stdout",
     "output_type": "stream",
     "text": [
      "7/7 [==============================] - 1s 15ms/step - loss: 0.7968 - accuracy: 0.8483\n",
      "7/7 [==============================] - 0s 11ms/step - loss: 0.6274 - accuracy: 0.9052\n",
      "7/7 [==============================] - 0s 10ms/step - loss: 0.7839 - accuracy: 0.8626\n",
      "7/7 [==============================] - 0s 10ms/step - loss: 0.7565 - accuracy: 0.8626\n",
      "7/7 [==============================] - 0s 9ms/step - loss: 0.6863 - accuracy: 0.8626\n"
     ]
    }
   ],
   "source": [
    "his0=model_list1[0].evaluate(x1,y1_ohe)\n",
    "his1=model_list1[1].evaluate(x1,y1_ohe)\n",
    "his2=model_list1[2].evaluate(x1,y1_ohe)\n",
    "his3=model_list1[3].evaluate(x1,y1_ohe)\n",
    "his4=model_list1[4].evaluate(x1,y1_ohe)"
   ]
  },
  {
   "cell_type": "code",
   "execution_count": 14,
   "id": "ae13f886-0fbf-4bec-9c63-20fa88bdcae3",
   "metadata": {},
   "outputs": [
    {
     "name": "stdout",
     "output_type": "stream",
     "text": [
      "7/7 [==============================] - 0s 13ms/step - loss: 0.8095 - accuracy: 0.7962\n",
      "7/7 [==============================] - 0s 13ms/step - loss: 0.7711 - accuracy: 0.8152\n",
      "7/7 [==============================] - 0s 12ms/step - loss: 0.8473 - accuracy: 0.7867\n",
      "7/7 [==============================] - 0s 11ms/step - loss: 0.8437 - accuracy: 0.8057\n",
      "7/7 [==============================] - 0s 13ms/step - loss: 0.8406 - accuracy: 0.7915\n"
     ]
    }
   ],
   "source": [
    "his0=model_list2[0].evaluate(x2,y2_ohe)\n",
    "his1=model_list2[1].evaluate(x2,y2_ohe)\n",
    "his2=model_list2[2].evaluate(x2,y2_ohe)\n",
    "his3=model_list2[3].evaluate(x2,y2_ohe)\n",
    "his4=model_list2[4].evaluate(x2,y2_ohe)"
   ]
  },
  {
   "cell_type": "code",
   "execution_count": null,
   "id": "1dfb2cd4-144d-4a1c-99ef-acd22bebbed3",
   "metadata": {},
   "outputs": [],
   "source": []
  },
  {
   "cell_type": "code",
   "execution_count": 15,
   "id": "0c23decf-6713-4a52-bc2d-2561553373af",
   "metadata": {},
   "outputs": [],
   "source": [
    "model2=Lr(model_list2,x2,y2)"
   ]
  },
  {
   "cell_type": "code",
   "execution_count": 17,
   "id": "9ada4d09-72f7-4a79-a19c-3dc25342a061",
   "metadata": {},
   "outputs": [
    {
     "name": "stdout",
     "output_type": "stream",
     "text": [
      "Stacked Test Accuracy: 0.872\n"
     ]
    }
   ],
   "source": [
    "# evaluate model on test set\n",
    "yhat2 = stacked_prediction(model_list2, model2, x2)\n",
    "acc2 = accuracy_score(y2, yhat2)\n",
    "print('Stacked Test Accuracy: %.3f' % acc2)"
   ]
  },
  {
   "cell_type": "code",
   "execution_count": 18,
   "id": "4634a6bb-7e0a-4235-a440-92f54f7ab063",
   "metadata": {},
   "outputs": [
    {
     "data": {
      "image/png": "[encoded data removed]",
      "text/plain": [
       "<Figure size 432x288 with 2 Axes>"
      ]
     },
     "metadata": {
      "needs_background": "light"
     },
     "output_type": "display_data"
    }
   ],
   "source": [
    "cm2=confusion_matrix(y2,yhat2)\n",
    "cm2=(cm2/cm2.astype(np.float64).sum(axis=1))*100\n",
    "\n",
    "from sklearn.metrics import ConfusionMatrixDisplay\n",
    "labels = [\"Blender\",\"Glass\",\"Washing\",\"Vacuum\"]\n",
    "disp = ConfusionMatrixDisplay(confusion_matrix=cm2, display_labels=labels)\n",
    "disp.plot(cmap=plt.cm.Blues)\n",
    "plt.show()"
   ]
  },
  {
   "cell_type": "code",
   "execution_count": null,
   "id": "db293145-8f7d-402e-85ed-1ccd9dd73831",
   "metadata": {},
   "outputs": [],
   "source": []
  },
  {
   "cell_type": "code",
   "execution_count": 20,
   "id": "e4b878f2-c1ef-4b16-909b-e08457845fb2",
   "metadata": {},
   "outputs": [],
   "source": [
    "model1=Lr(model_list1,x1,y1)"
   ]
  },
  {
   "cell_type": "code",
   "execution_count": 22,
   "id": "e58a10c6-5d10-4466-9473-ea2befd004f2",
   "metadata": {},
   "outputs": [
    {
     "name": "stdout",
     "output_type": "stream",
     "text": [
      "Stacked Test Accuracy: 0.924\n"
     ]
    }
   ],
   "source": [
    "# evaluate model on test set\n",
    "yhat1 = stacked_prediction(model_list1, model1, x1)\n",
    "acc1 = accuracy_score(y1, yhat1)\n",
    "print('Stacked Test Accuracy: %.3f' % acc1)"
   ]
  },
  {
   "cell_type": "code",
   "execution_count": 24,
   "id": "5112a7b7-1f85-4984-a82f-d34f7aa52519",
   "metadata": {},
   "outputs": [
    {
     "data": {
      "image/png": "[encoded data removed]",
      "text/plain": [
       "<Figure size 432x288 with 2 Axes>"
      ]
     },
     "metadata": {
      "needs_background": "light"
     },
     "output_type": "display_data"
    }
   ],
   "source": [
    "cm1=confusion_matrix(y1,yhat1)\n",
    "cm1=(cm1/cm1.astype(np.float64).sum(axis=1))*100\n",
    "\n",
    "from sklearn.metrics import ConfusionMatrixDisplay\n",
    "labels = [\"Blender\",\"Glass\",\"Washing\",\"Vacuum\"]\n",
    "disp = ConfusionMatrixDisplay(confusion_matrix=cm1, display_labels=labels)\n",
    "disp.plot(cmap=plt.cm.Blues)\n",
    "plt.show()"
   ]
  },
  {
   "cell_type": "code",
   "execution_count": 34,
   "id": "6abe1e0f-9b69-431f-b8a4-52915d14d1dc",
   "metadata": {},
   "outputs": [
    {
     "name": "stdout",
     "output_type": "stream",
     "text": [
      "Stacked Test Accuracy: 0.915\n"
     ]
    }
   ],
   "source": [
    "model_list3=[]\n",
    "model_list3.append(model_list2[1])\n",
    "model_list3.append(model_list1[1])\n",
    "yhat3_1=model_list3[0].predict(x2)#emd  .815\n",
    "yhat3_2=model_list3[1].predict(x1)#mfcc .905\n",
    "stackX = np.dstack((yhat3_1, yhat3_2))\n",
    "stackX = stackX.reshape((stackX.shape[0], stackX.shape[1]*stackX.shape[2]))\n",
    "stackX = np.dstack((yhat3_1, yhat3_2))\n",
    "stackX = stackX.reshape((stackX.shape[0], stackX.shape[1]*stackX.shape[2]))\n",
    "model_x = LogisticRegression()\n",
    "model_x.fit(stackX,y1)\n",
    "res=model_x.predict(stackX)\n",
    "acc3 = accuracy_score(y2, res)\n",
    "print('Stacked Test Accuracy: %.3f' % acc3)"
   ]
  },
  {
   "cell_type": "code",
   "execution_count": 35,
   "id": "9775b1f9-53af-43cd-a705-f2f75c66cac0",
   "metadata": {},
   "outputs": [
    {
     "name": "stdout",
     "output_type": "stream",
     "text": [
      "Stacked Test Accuracy: 0.924\n"
     ]
    }
   ],
   "source": [
    "model_list3=[]\n",
    "\n",
    "model_list3.append(model_list2[1])\n",
    "model_list3.append(model_list1[1])\n",
    "model_list3.append(model_list2[3])\n",
    "\n",
    "yhat3_1=model_list3[0].predict(x2)#emd  .815\n",
    "yhat3_2=model_list3[1].predict(x1)#mfcc .905\n",
    "yhat3_3=model_list3[2].predict(x2)#emd .806\n",
    "\n",
    "\n",
    "stackX = np.dstack((yhat3_1, yhat3_2))\n",
    "stackX = np.dstack((stackX, yhat3_3))\n",
    "\n",
    "\n",
    "stackX = stackX.reshape((stackX.shape[0], stackX.shape[1]*stackX.shape[2]))\n",
    "model_x = LogisticRegression()\n",
    "model_x.fit(stackX,y1)\n",
    "res=model_x.predict(stackX)\n",
    "acc3 = accuracy_score(y2, res)\n",
    "print('Stacked Test Accuracy: %.3f' % acc3)"
   ]
  },
  {
   "cell_type": "code",
   "execution_count": 36,
   "id": "9cb17eeb-e5ab-4eff-b434-4c2a366baead",
   "metadata": {},
   "outputs": [
    {
     "name": "stdout",
     "output_type": "stream",
     "text": [
      "Stacked Test Accuracy: 0.929\n"
     ]
    }
   ],
   "source": [
    "model_list3=[]\n",
    "\n",
    "model_list3.append(model_list2[1])\n",
    "model_list3.append(model_list1[1])\n",
    "model_list3.append(model_list2[3])\n",
    "model_list3.append(model_list2[4])\n",
    "\n",
    "yhat3_1=model_list3[0].predict(x2)#emd  .815\n",
    "yhat3_2=model_list3[1].predict(x1)#mfcc .905\n",
    "yhat3_3=model_list3[2].predict(x2)#emd .806\n",
    "yhat3_4=model_list3[2].predict(x2)#emd .79\n",
    "\n",
    "\n",
    "stackX = np.dstack((yhat3_1, yhat3_2))\n",
    "stackX = np.dstack((stackX, yhat3_3))\n",
    "stackX = np.dstack((stackX, yhat3_4))\n",
    "\n",
    "\n",
    "stackX = stackX.reshape((stackX.shape[0], stackX.shape[1]*stackX.shape[2]))\n",
    "model_x = LogisticRegression()\n",
    "model_x.fit(stackX,y1)\n",
    "res=model_x.predict(stackX)\n",
    "acc3 = accuracy_score(y2, res)\n",
    "print('Stacked Test Accuracy: %.3f' % acc3)"
   ]
  },
  {
   "cell_type": "code",
   "execution_count": 38,
   "id": "74797d78-0cff-45d8-96c0-c7b362606f42",
   "metadata": {},
   "outputs": [
    {
     "name": "stdout",
     "output_type": "stream",
     "text": [
      "Stacked Test Accuracy: 0.924\n"
     ]
    }
   ],
   "source": [
    "model_list3=[]\n",
    "\n",
    "model_list3.append(model_list2[1])\n",
    "model_list3.append(model_list1[1])\n",
    "model_list3.append(model_list2[3])\n",
    "model_list3.append(model_list2[4])\n",
    "model_list3.append(model_list1[0])\n",
    "\n",
    "yhat3_1=model_list3[0].predict(x2)#emd  .815\n",
    "yhat3_2=model_list3[1].predict(x1)#mfcc .905\n",
    "yhat3_3=model_list3[2].predict(x2)#emd .806\n",
    "yhat3_4=model_list3[3].predict(x2)#emd .79\n",
    "yhat3_5=model_list3[4].predict(x1)#mfcc .87\n",
    "\n",
    "\n",
    "\n",
    "stackX = np.dstack((yhat3_1, yhat3_2))\n",
    "stackX = np.dstack((stackX, yhat3_3))\n",
    "stackX = np.dstack((stackX, yhat3_4))\n",
    "stackX = np.dstack((stackX, yhat3_5))\n",
    "\n",
    "\n",
    "stackX = stackX.reshape((stackX.shape[0], stackX.shape[1]*stackX.shape[2]))\n",
    "model_x = LogisticRegression()\n",
    "model_x.fit(stackX,y1)\n",
    "res=model_x.predict(stackX)\n",
    "acc3 = accuracy_score(y2, res)\n",
    "print('Stacked Test Accuracy: %.3f' % acc3)"
   ]
  },
  {
   "cell_type": "code",
   "execution_count": 32,
   "id": "b49c15c8-d9d5-44fe-a618-f79ec8e7fe45",
   "metadata": {},
   "outputs": [],
   "source": []
  },
  {
   "cell_type": "code",
   "execution_count": 33,
   "id": "110f063c-6581-422c-8db2-0f325dad3ad8",
   "metadata": {},
   "outputs": [
    {
     "name": "stdout",
     "output_type": "stream",
     "text": [
      "Stacked Test Accuracy: 0.915\n"
     ]
    }
   ],
   "source": []
  }
 ],
 "metadata": {
  "kernelspec": {
   "display_name": "Python 3",
   "language": "python",
   "name": "python3"
  },
  "language_info": {
   "codemirror_mode": {
    "name": "ipython",
    "version": 3
   },
   "file_extension": ".py",
   "mimetype": "text/x-python",
   "name": "python",
   "nbconvert_exporter": "python",
   "pygments_lexer": "ipython3",
   "version": "3.8.8"
  }
 },
 "nbformat": 4,
 "nbformat_minor": 5
}
